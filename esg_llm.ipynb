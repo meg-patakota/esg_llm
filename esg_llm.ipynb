{
 "cells": [
  {
   "cell_type": "code",
   "execution_count": 52,
   "metadata": {},
   "outputs": [
    {
     "data": {
      "text/plain": [
       "True"
      ]
     },
     "execution_count": 52,
     "metadata": {},
     "output_type": "execute_result"
    }
   ],
   "source": [
    "from langchain.document_loaders import DirectoryLoader\n",
    "from langchain.text_splitter import RecursiveCharacterTextSplitter\n",
    "from langchain.vectorstores import FAISS\n",
    "from langchain.embeddings import HuggingFaceEmbeddings\n",
    "from langchain.llms import HuggingFacePipeline\n",
    "from langchain.chains import RetrievalQA\n",
    "from langchain.chat_models import ChatOpenAI\n",
    "from dotenv import load_dotenv\n",
    "load_dotenv()"
   ]
  },
  {
   "cell_type": "code",
   "execution_count": 53,
   "metadata": {},
   "outputs": [
    {
     "name": "stderr",
     "output_type": "stream",
     "text": [
      "100%|██████████| 1/1 [00:06<00:00,  6.06s/it]\n"
     ]
    }
   ],
   "source": [
    "## load all the reports in pdf format\n",
    "loader = DirectoryLoader('./data', glob=\"2023-sustainability-accessible-report.pdf\", show_progress=True, use_multithreading=True)\n",
    "raw_documents = loader.load()"
   ]
  },
  {
   "cell_type": "code",
   "execution_count": 54,
   "metadata": {},
   "outputs": [],
   "source": [
    "text_splitter = RecursiveCharacterTextSplitter(\n",
    "    chunk_size=256, chunk_overlap=100\n",
    ")\n",
    "documents = text_splitter.split_documents(raw_documents)"
   ]
  },
  {
   "cell_type": "code",
   "execution_count": 55,
   "metadata": {},
   "outputs": [],
   "source": [
    "embeddings = HuggingFaceEmbeddings()"
   ]
  },
  {
   "cell_type": "code",
   "execution_count": 56,
   "metadata": {},
   "outputs": [],
   "source": [
    "db = FAISS.from_documents(documents, embeddings)"
   ]
  },
  {
   "cell_type": "code",
   "execution_count": 57,
   "metadata": {},
   "outputs": [],
   "source": [
    "# llm = ChatOpenAI(model_name=\"gpt-3.5-turbo\", temperature=0)\n",
    "\n",
    "llm = HuggingFacePipeline.from_model_id(\n",
    "    model_id=\"google/flan-t5-large\",\n",
    "    task=\"text2text-generation\",\n",
    "    pipeline_kwargs={\"max_length\": 100},\n",
    ")"
   ]
  },
  {
   "cell_type": "code",
   "execution_count": 58,
   "metadata": {},
   "outputs": [],
   "source": [
    "qa_chain = RetrievalQA.from_chain_type(llm, retriever=db.as_retriever(), return_source_documents=True)"
   ]
  },
  {
   "cell_type": "code",
   "execution_count": 59,
   "metadata": {},
   "outputs": [
    {
     "name": "stdout",
     "output_type": "stream",
     "text": [
      "economy-wide change\n"
     ]
    }
   ],
   "source": [
    "query = \"What are the company's climate objectives?\"\n",
    "response = qa_chain({\"query\": query})\n",
    "print(response['result'])"
   ]
  },
  {
   "cell_type": "code",
   "execution_count": 60,
   "metadata": {},
   "outputs": [
    {
     "data": {
      "text/plain": [
       "[Document(page_content='26\\n\\n29 Be diverse and inclusive as a business and as\\n\\nan investor\\n\\n31 Align all our people behind our sustainability ambition\\n\\nHow we manage our sustainability activities\\n\\nFocus on climate\\n\\nDoing business responsibly\\n\\nSupplementary information', metadata={'source': 'data/2023-sustainability-accessible-report.pdf'}),\n",
       " Document(page_content='economy-wide change. Collaboration with our clients is critical to support our climate objectives and address related issues through our investments and stewardship.', metadata={'source': 'data/2023-sustainability-accessible-report.pdf'}),\n",
       " Document(page_content='Focus on climate\\n\\nDoing business responsibly\\n\\nSupplementary information\\n\\nM&G plc Sustainability Report 2022/23\\n\\n69\\n\\nAbout M&G\\n\\nGlossary\\n\\nKey terms and words\\n\\nCategory\\n\\nDefinition\\n\\nKey words and terms', metadata={'source': 'data/2023-sustainability-accessible-report.pdf'}),\n",
       " Document(page_content='our shareholders and other stakeholders, and intend to update our plan as we refine our approach to climate.', metadata={'source': 'data/2023-sustainability-accessible-report.pdf'})]"
      ]
     },
     "execution_count": 60,
     "metadata": {},
     "output_type": "execute_result"
    }
   ],
   "source": [
    "response[\"source_documents\"]"
   ]
  },
  {
   "cell_type": "code",
   "execution_count": null,
   "metadata": {},
   "outputs": [],
   "source": []
  }
 ],
 "metadata": {
  "kernelspec": {
   "display_name": "venv",
   "language": "python",
   "name": "python3"
  },
  "language_info": {
   "codemirror_mode": {
    "name": "ipython",
    "version": 3
   },
   "file_extension": ".py",
   "mimetype": "text/x-python",
   "name": "python",
   "nbconvert_exporter": "python",
   "pygments_lexer": "ipython3",
   "version": "3.10.12"
  },
  "orig_nbformat": 4
 },
 "nbformat": 4,
 "nbformat_minor": 2
}
